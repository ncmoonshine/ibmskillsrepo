{
 "cells": [
  {
   "cell_type": "markdown",
   "id": "e08fddef-9c8a-47f6-b5eb-72f24c573388",
   "metadata": {},
   "source": [
    "# Data Science Tools and Ecosystem"
   ]
  },
  {
   "cell_type": "markdown",
   "id": "49a2841e-44d6-4b76-8dd7-4d30e3680f57",
   "metadata": {},
   "source": [
    "In this notebook, Data Science Tools and Ecosystem are summarized."
   ]
  },
  {
   "cell_type": "markdown",
   "id": "5b63f82d-6ce5-4520-9cac-bacd900e6e4f",
   "metadata": {},
   "source": [
    "Objectives:\n",
    "\n",
    "* List popular languages for Data Science\n",
    "* Create markdown cell\n",
    "* Create code cell\n",
    "* write simple Python code\n",
    "* Review the knowledge\n"
   ]
  },
  {
   "cell_type": "markdown",
   "id": "f8e469ab-11b5-4ac7-928a-ebede0e9f9b3",
   "metadata": {},
   "source": [
    "Some of the popular languages that Data Scientists use are\n",
    "\n",
    "* Python\n",
    "* R\n",
    "* SQL "
   ]
  },
  {
   "cell_type": "markdown",
   "id": "dfef3fec-ccf4-43f2-97f3-16fa615044aa",
   "metadata": {},
   "source": [
    "Some of the commonly used libraries used by Data Scientists include:\n",
    "\n",
    "1) pandas\n",
    "2) numpy\n",
    "3) ggplot"
   ]
  },
  {
   "cell_type": "markdown",
   "id": "0a09240a-2777-4c75-84d4-6025f3f7b673",
   "metadata": {},
   "source": [
    "| Data Science Tools  | \n",
    "|-------|\n",
    "| Python |  \n",
    "| R  |\n",
    "| Jupyter   |\n"
   ]
  },
  {
   "cell_type": "markdown",
   "id": "a66e96fc-1045-44af-b0ab-61c577dbcbb9",
   "metadata": {},
   "source": [
    "### Below are a few examples of evaluating arithmetic expressions in Python"
   ]
  },
  {
   "cell_type": "code",
   "execution_count": 3,
   "id": "8bfffc08-4410-4ec4-ab45-46511e2a0854",
   "metadata": {},
   "outputs": [
    {
     "data": {
      "text/plain": [
       "17"
      ]
     },
     "execution_count": 3,
     "metadata": {},
     "output_type": "execute_result"
    }
   ],
   "source": [
    "# This a simple arithmetic expression to mutiply then add integers\n",
    "(3*4)+5"
   ]
  },
  {
   "cell_type": "code",
   "execution_count": 5,
   "id": "e453585a-5efa-4a80-b79c-d0abe23b7045",
   "metadata": {},
   "outputs": [
    {
     "data": {
      "text/plain": [
       "3.3333333333333335"
      ]
     },
     "execution_count": 5,
     "metadata": {},
     "output_type": "execute_result"
    }
   ],
   "source": [
    "# This will convert 200 minutes to hours by diving by 60\n",
    "minutes = 200\n",
    "hours = minutes/60\n",
    "hours"
   ]
  },
  {
   "cell_type": "markdown",
   "id": "a3629295-ffd2-449e-8d13-b21e128682e5",
   "metadata": {},
   "source": [
    "## Author\n",
    "\n",
    "Lukasz Zolan"
   ]
  },
  {
   "cell_type": "code",
   "execution_count": null,
   "id": "5b7471a6-d67d-419b-8860-f9d563def533",
   "metadata": {},
   "outputs": [],
   "source": []
  }
 ],
 "metadata": {
  "kernelspec": {
   "display_name": "Python 3 (ipykernel)",
   "language": "python",
   "name": "python3"
  },
  "language_info": {
   "codemirror_mode": {
    "name": "ipython",
    "version": 3
   },
   "file_extension": ".py",
   "mimetype": "text/x-python",
   "name": "python",
   "nbconvert_exporter": "python",
   "pygments_lexer": "ipython3",
   "version": "3.12.8"
  }
 },
 "nbformat": 4,
 "nbformat_minor": 5
}
